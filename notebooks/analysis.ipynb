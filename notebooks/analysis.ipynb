{
 "cells": [
  {
   "cell_type": "markdown",
   "metadata": {
    "collapsed": false,
    "jupyter": {
     "outputs_hidden": false
    }
   },
   "source": [
    "# TikTok Echo Chamber Model\n",
    "\n",
    "## Background\n",
    "\n",
    "The TikTok Echo Chamber model seeks to simulate the creation and sustenance of echo chambers on TikTok via bot to bot interactions. It utilizes agent-based modelling to demonstrate how agents - human or bot - of varying political leanings - conservative, progressive or neutral - interact with one another and take-on/lose each other's political leanings, eventually finding themselves surrounded by agents with similar leanings.\n",
    "\n",
    "The model categorizes interactions like following, sharing, commenting and liking as positive interactions since they promote connection and increase the likelihood of political leanings being adopted. Conversely, interactions like unfollowing and disliking are thus categorized as negative interactions.\n",
    "\n",
    "Agents are randomly placed on a graph. Human agents start off neutral to reflect a non-tailored For You Page (FYP) when a new user joins TikTok. There is at least one bot agent in the network and bot agents, as in real life, start off with a non-neutral political leaning with the goal of spreading that leaning. Human agents are able to have positive or negative interactions with other agents, while bot agents can only have positive interactions since they aim to spread their leanings. Upon a positive interaction, an agent tries to pass on its leaning to another. Upon a negative interaction, the receiving agent will try to change its political leaning to something other than the initiating agent's.\n",
    "\n",
    "While individual human agents may interact with others of dissimilar leanings, the amplification of some leaning by bots near the human agent nonetheless leads to clusters of similar leanings.\n",
    "\n",
    "## Implementation\n",
    "\n",
    "This is a demonstration of running the TikTok Echo Chamber model in an IPython Notebook. The actual model and agent code are implemented in the src directory of this Github repo. Below, we will import the model class, instantiate it, run it, and plot the time series of the number of happy agents.\n",
    "\n",
    "Please note that you may have to edit the source code since imports may not be identified in different settings. If the below import fails, make the following changes\n",
    "\n",
    "In src/app.py change:\n",
    "<code>from agents import</code> to <code>from src.agents import</code>\n",
    "<code>from model import</code> to <code>from src.model import</code>\n",
    "\n",
    "In src/model.py change:\n",
    "<code>from agents import</code> to <code>from src.agents import</code>"
   ]
  },
  {
   "cell_type": "markdown",
   "metadata": {
    "collapsed": false,
    "jupyter": {
     "outputs_hidden": false
    }
   },
   "source": [
    "## The following analyses are done in this notebook.\n",
    "Notebook links don't work on Github so feel free to search by these titles.\n",
    "1. [Effect of Number of Bots on Number of Clusters](#Effect-of-Number-of-Bots-on-Number-of-Clusters)\n",
    "2. [Effect of Probability to Follow on Average Cluster Size](#Effect-of-Probability-to-Follow-on-Average-Cluster-Size)\n",
    "3. [Comparing Bot-to-Bot Interactions to Echo Chamber Formation Rate](#Comparing-Bot-to-Bot-Interactions-to-Echo-Chamber-Formation-Rate)\n",
    "4. [Comparing Bot-to-Human Ratio to Echo Chamber Formation Rate](#Comparing-Bot-to-Human-Ratio-to-Echo-Chamber-Formation-Rate)\n",
    "\n",
    "[References](#references)"
   ]
  },
  {
   "cell_type": "code",
   "execution_count": 3,
   "metadata": {},
   "outputs": [
    {
     "name": "stdout",
     "output_type": "stream",
     "text": [
      "Requirement already satisfied: matplotlib in /Users/abdulwahid/Documents/University/W25/EECS4461/base4461/env/lib/python3.12/site-packages (3.10.1)\n",
      "Requirement already satisfied: pandas in /Users/abdulwahid/Documents/University/W25/EECS4461/base4461/env/lib/python3.12/site-packages (2.2.3)\n",
      "Requirement already satisfied: ipykernel in /Users/abdulwahid/Documents/University/W25/EECS4461/base4461/env/lib/python3.12/site-packages (6.29.5)\n",
      "Requirement already satisfied: contourpy>=1.0.1 in /Users/abdulwahid/Documents/University/W25/EECS4461/base4461/env/lib/python3.12/site-packages (from matplotlib) (1.3.1)\n",
      "Requirement already satisfied: cycler>=0.10 in /Users/abdulwahid/Documents/University/W25/EECS4461/base4461/env/lib/python3.12/site-packages (from matplotlib) (0.12.1)\n",
      "Requirement already satisfied: fonttools>=4.22.0 in /Users/abdulwahid/Documents/University/W25/EECS4461/base4461/env/lib/python3.12/site-packages (from matplotlib) (4.56.0)\n",
      "Requirement already satisfied: kiwisolver>=1.3.1 in /Users/abdulwahid/Documents/University/W25/EECS4461/base4461/env/lib/python3.12/site-packages (from matplotlib) (1.4.8)\n",
      "Requirement already satisfied: numpy>=1.23 in /Users/abdulwahid/Documents/University/W25/EECS4461/base4461/env/lib/python3.12/site-packages (from matplotlib) (2.2.3)\n",
      "Requirement already satisfied: packaging>=20.0 in /Users/abdulwahid/Documents/University/W25/EECS4461/base4461/env/lib/python3.12/site-packages (from matplotlib) (24.2)\n",
      "Requirement already satisfied: pillow>=8 in /Users/abdulwahid/Documents/University/W25/EECS4461/base4461/env/lib/python3.12/site-packages (from matplotlib) (11.1.0)\n",
      "Requirement already satisfied: pyparsing>=2.3.1 in /Users/abdulwahid/Documents/University/W25/EECS4461/base4461/env/lib/python3.12/site-packages (from matplotlib) (3.2.1)\n",
      "Requirement already satisfied: python-dateutil>=2.7 in /Users/abdulwahid/Documents/University/W25/EECS4461/base4461/env/lib/python3.12/site-packages (from matplotlib) (2.9.0.post0)\n",
      "Requirement already satisfied: pytz>=2020.1 in /Users/abdulwahid/Documents/University/W25/EECS4461/base4461/env/lib/python3.12/site-packages (from pandas) (2025.1)\n",
      "Requirement already satisfied: tzdata>=2022.7 in /Users/abdulwahid/Documents/University/W25/EECS4461/base4461/env/lib/python3.12/site-packages (from pandas) (2025.1)\n",
      "Requirement already satisfied: appnope in /Users/abdulwahid/Documents/University/W25/EECS4461/base4461/env/lib/python3.12/site-packages (from ipykernel) (0.1.4)\n",
      "Requirement already satisfied: comm>=0.1.1 in /Users/abdulwahid/Documents/University/W25/EECS4461/base4461/env/lib/python3.12/site-packages (from ipykernel) (0.2.2)\n",
      "Requirement already satisfied: debugpy>=1.6.5 in /Users/abdulwahid/Documents/University/W25/EECS4461/base4461/env/lib/python3.12/site-packages (from ipykernel) (1.8.12)\n",
      "Requirement already satisfied: ipython>=7.23.1 in /Users/abdulwahid/Documents/University/W25/EECS4461/base4461/env/lib/python3.12/site-packages (from ipykernel) (9.0.0)\n",
      "Requirement already satisfied: jupyter-client>=6.1.12 in /Users/abdulwahid/Documents/University/W25/EECS4461/base4461/env/lib/python3.12/site-packages (from ipykernel) (8.6.3)\n",
      "Requirement already satisfied: jupyter-core!=5.0.*,>=4.12 in /Users/abdulwahid/Documents/University/W25/EECS4461/base4461/env/lib/python3.12/site-packages (from ipykernel) (5.7.2)\n",
      "Requirement already satisfied: matplotlib-inline>=0.1 in /Users/abdulwahid/Documents/University/W25/EECS4461/base4461/env/lib/python3.12/site-packages (from ipykernel) (0.1.7)\n",
      "Requirement already satisfied: nest-asyncio in /Users/abdulwahid/Documents/University/W25/EECS4461/base4461/env/lib/python3.12/site-packages (from ipykernel) (1.6.0)\n",
      "Requirement already satisfied: psutil in /Users/abdulwahid/Documents/University/W25/EECS4461/base4461/env/lib/python3.12/site-packages (from ipykernel) (7.0.0)\n",
      "Requirement already satisfied: pyzmq>=24 in /Users/abdulwahid/Documents/University/W25/EECS4461/base4461/env/lib/python3.12/site-packages (from ipykernel) (26.2.1)\n",
      "Requirement already satisfied: tornado>=6.1 in /Users/abdulwahid/Documents/University/W25/EECS4461/base4461/env/lib/python3.12/site-packages (from ipykernel) (6.4.2)\n",
      "Requirement already satisfied: traitlets>=5.4.0 in /Users/abdulwahid/Documents/University/W25/EECS4461/base4461/env/lib/python3.12/site-packages (from ipykernel) (5.14.3)\n",
      "Requirement already satisfied: decorator in /Users/abdulwahid/Documents/University/W25/EECS4461/base4461/env/lib/python3.12/site-packages (from ipython>=7.23.1->ipykernel) (5.2.1)\n",
      "Requirement already satisfied: ipython-pygments-lexers in /Users/abdulwahid/Documents/University/W25/EECS4461/base4461/env/lib/python3.12/site-packages (from ipython>=7.23.1->ipykernel) (1.1.1)\n",
      "Requirement already satisfied: jedi>=0.16 in /Users/abdulwahid/Documents/University/W25/EECS4461/base4461/env/lib/python3.12/site-packages (from ipython>=7.23.1->ipykernel) (0.19.2)\n",
      "Requirement already satisfied: pexpect>4.3 in /Users/abdulwahid/Documents/University/W25/EECS4461/base4461/env/lib/python3.12/site-packages (from ipython>=7.23.1->ipykernel) (4.9.0)\n",
      "Requirement already satisfied: prompt_toolkit<3.1.0,>=3.0.41 in /Users/abdulwahid/Documents/University/W25/EECS4461/base4461/env/lib/python3.12/site-packages (from ipython>=7.23.1->ipykernel) (3.0.50)\n",
      "Requirement already satisfied: pygments>=2.4.0 in /Users/abdulwahid/Documents/University/W25/EECS4461/base4461/env/lib/python3.12/site-packages (from ipython>=7.23.1->ipykernel) (2.19.1)\n",
      "Requirement already satisfied: stack_data in /Users/abdulwahid/Documents/University/W25/EECS4461/base4461/env/lib/python3.12/site-packages (from ipython>=7.23.1->ipykernel) (0.6.3)\n",
      "Requirement already satisfied: platformdirs>=2.5 in /Users/abdulwahid/Documents/University/W25/EECS4461/base4461/env/lib/python3.12/site-packages (from jupyter-core!=5.0.*,>=4.12->ipykernel) (4.3.6)\n",
      "Requirement already satisfied: six>=1.5 in /Users/abdulwahid/Documents/University/W25/EECS4461/base4461/env/lib/python3.12/site-packages (from python-dateutil>=2.7->matplotlib) (1.17.0)\n",
      "Requirement already satisfied: parso<0.9.0,>=0.8.4 in /Users/abdulwahid/Documents/University/W25/EECS4461/base4461/env/lib/python3.12/site-packages (from jedi>=0.16->ipython>=7.23.1->ipykernel) (0.8.4)\n",
      "Requirement already satisfied: ptyprocess>=0.5 in /Users/abdulwahid/Documents/University/W25/EECS4461/base4461/env/lib/python3.12/site-packages (from pexpect>4.3->ipython>=7.23.1->ipykernel) (0.7.0)\n",
      "Requirement already satisfied: wcwidth in /Users/abdulwahid/Documents/University/W25/EECS4461/base4461/env/lib/python3.12/site-packages (from prompt_toolkit<3.1.0,>=3.0.41->ipython>=7.23.1->ipykernel) (0.2.13)\n",
      "Requirement already satisfied: executing>=1.2.0 in /Users/abdulwahid/Documents/University/W25/EECS4461/base4461/env/lib/python3.12/site-packages (from stack_data->ipython>=7.23.1->ipykernel) (2.2.0)\n",
      "Requirement already satisfied: asttokens>=2.1.0 in /Users/abdulwahid/Documents/University/W25/EECS4461/base4461/env/lib/python3.12/site-packages (from stack_data->ipython>=7.23.1->ipykernel) (3.0.0)\n",
      "Requirement already satisfied: pure-eval in /Users/abdulwahid/Documents/University/W25/EECS4461/base4461/env/lib/python3.12/site-packages (from stack_data->ipython>=7.23.1->ipykernel) (0.2.3)\n",
      "\n",
      "\u001b[1m[\u001b[0m\u001b[34;49mnotice\u001b[0m\u001b[1;39;49m]\u001b[0m\u001b[39;49m A new release of pip is available: \u001b[0m\u001b[31;49m24.0\u001b[0m\u001b[39;49m -> \u001b[0m\u001b[32;49m25.0.1\u001b[0m\n",
      "\u001b[1m[\u001b[0m\u001b[34;49mnotice\u001b[0m\u001b[1;39;49m]\u001b[0m\u001b[39;49m To update, run: \u001b[0m\u001b[32;49mpip install --upgrade pip\u001b[0m\n",
      "Note: you may need to restart the kernel to use updated packages.\n"
     ]
    }
   ],
   "source": [
    "%pip install matplotlib pandas ipykernel"
   ]
  },
  {
   "cell_type": "code",
   "execution_count": 4,
   "metadata": {
    "ExecuteTime": {
     "end_time": "2025-03-24T01:16:50.378804Z",
     "start_time": "2025-03-24T01:16:50.324675Z"
    }
   },
   "outputs": [],
   "source": [
    "import matplotlib.pyplot as plt\n",
    "import pandas as pd\n",
    "\n",
    "%matplotlib inline\n",
    "\n",
    "from src.model import TikTokEchoChamber"
   ]
  },
  {
   "cell_type": "markdown",
   "metadata": {},
   "source": [
    "Now we instantiate a model instance: 10 nodes with 2 bot nodes and an average node degree of 3. The likelihood of agents to have a positive interaction with others is 40%. After a negative interaction, they have a 50% chance to become neutral."
   ]
  },
  {
   "cell_type": "code",
   "execution_count": 5,
   "metadata": {
    "ExecuteTime": {
     "end_time": "2025-03-24T01:16:50.380804Z",
     "start_time": "2025-03-24T01:16:50.331550Z"
    }
   },
   "outputs": [],
   "source": [
    "ttec_model = TikTokEchoChamber(\n",
    "    num_nodes=10,\n",
    "    avg_node_degree=3,\n",
    "    num_cons_bots=1,\n",
    "    num_prog_bots=1,\n",
    "    positive_chance=0.4,\n",
    "    become_neutral_chance=0.5,\n",
    "    seed=42\n",
    ")"
   ]
  },
  {
   "cell_type": "markdown",
   "metadata": {},
   "source": [
    "The model will run until all agents are of non-neutral leaning. However, there's no guarantee that a given model instantiation will *ever* settle down. So it will run for either 100 steps or until it stops on its own, whichever comes first:"
   ]
  },
  {
   "cell_type": "code",
   "execution_count": null,
   "metadata": {
    "ExecuteTime": {
     "end_time": "2025-03-24T01:16:50.417820Z",
     "start_time": "2025-03-24T01:16:50.345886Z"
    }
   },
   "outputs": [],
   "source": [
    "while ttec_model.running and ttec_model.steps < 100:\n",
    "    ttec_model.step()\n",
    "print(f\"Number of Steps {ttec_model.steps}\")  # Show how many steps have actually run"
   ]
  },
  {
   "cell_type": "code",
   "execution_count": null,
   "metadata": {
    "ExecuteTime": {
     "end_time": "2025-03-24T01:16:50.418898Z",
     "start_time": "2025-03-24T01:16:50.351126Z"
    },
    "collapsed": false
   },
   "outputs": [],
   "source": [
    "from enum import IntEnum\n",
    "import random\n",
    "class POSInteraction(IntEnum):\n",
    "    \"\"\"Weight of each positive interaction\"\"\"\n",
    "    FOLLOW = 5\n",
    "    SHARE = 3\n",
    "    LIKE = 2\n",
    "    COMMENT = 2\n",
    "    VIEW = 1\n",
    "\n",
    "# define list of all positive/negative interaction weights\n",
    "POSInteraction_LIST = list(map(int,POSInteraction))\n",
    "class NEGInteraction(IntEnum):\n",
    "    \"\"\"Weight of each negative interaction\"\"\"\n",
    "    UNFOLLOW = -5\n",
    "    DISLIKE = -2\n",
    "\n",
    "\n",
    "# define list of all positive/negative interaction weights\n",
    "NEGInteraction_LIST = list(map(int, NEGInteraction))\n",
    "random.choice(NEGInteraction_LIST)\n"
   ]
  },
  {
   "cell_type": "markdown",
   "metadata": {
    "collapsed": false,
    "jupyter": {
     "outputs_hidden": false
    }
   },
   "source": [
    "Generate a pandas DataFrame of the number of conservative, progressive and neutral agent counts at the end of each step."
   ]
  },
  {
   "cell_type": "code",
   "execution_count": null,
   "metadata": {
    "ExecuteTime": {
     "end_time": "2025-03-24T01:16:50.420340Z",
     "start_time": "2025-03-24T01:16:50.358990Z"
    },
    "collapsed": false,
    "jupyter": {
     "outputs_hidden": false
    }
   },
   "outputs": [],
   "source": [
    "model_out = ttec_model.datacollector.get_model_vars_dataframe()\n",
    "model_out.head()"
   ]
  },
  {
   "cell_type": "markdown",
   "metadata": {
    "collapsed": false,
    "jupyter": {
     "outputs_hidden": false
    }
   },
   "source": [
    "Now show the cluster metrics at the end of each step. This is in a specific table of the datacollector."
   ]
  },
  {
   "cell_type": "code",
   "execution_count": null,
   "metadata": {
    "ExecuteTime": {
     "end_time": "2025-03-24T01:16:50.430910Z",
     "start_time": "2025-03-24T01:16:50.369620Z"
    },
    "collapsed": false,
    "jupyter": {
     "outputs_hidden": false
    }
   },
   "outputs": [],
   "source": [
    "cluster_out = ttec_model.datacollector.get_table_dataframe(\"CA\")\n",
    "cluster_out.head()"
   ]
  },
  {
   "cell_type": "markdown",
   "metadata": {
    "collapsed": false,
    "jupyter": {
     "outputs_hidden": false
    }
   },
   "source": [
    "Finally, plot both series - political leanings and cluster analysis:"
   ]
  },
  {
   "cell_type": "code",
   "execution_count": null,
   "metadata": {
    "ExecuteTime": {
     "end_time": "2025-03-24T01:16:50.607426Z",
     "start_time": "2025-03-24T01:16:50.379075Z"
    },
    "collapsed": false,
    "jupyter": {
     "outputs_hidden": false
    }
   },
   "outputs": [],
   "source": [
    "model_out.plot()\n",
    "cluster_out.plot()"
   ]
  },
  {
   "cell_type": "markdown",
   "metadata": {
    "collapsed": false,
    "jupyter": {
     "outputs_hidden": false
    }
   },
   "source": [
    "***\n",
    "# Effect of Number of Bots on Number of Clusters\n",
    "\n",
    "How big do clusters get when agents are more likely to connect than disconnect?"
   ]
  },
  {
   "cell_type": "markdown",
   "metadata": {
    "collapsed": false,
    "jupyter": {
     "outputs_hidden": false
    }
   },
   "source": [
    "Below we do a parameter sweep to see how the number of clusters changes with the number of bots.\n",
    "\n",
    "First, we create a function which takes a model instance and returns the number of clusters ie. agents in  proximity to one another which also have similar leanings."
   ]
  },
  {
   "cell_type": "code",
   "execution_count": 11,
   "metadata": {
    "ExecuteTime": {
     "end_time": "2025-03-24T01:16:50.608138Z",
     "start_time": "2025-03-24T01:16:50.549670Z"
    }
   },
   "outputs": [],
   "source": [
    "from batchrunner import batch_run"
   ]
  },
  {
   "cell_type": "markdown",
   "metadata": {},
   "source": [
    "Now, we set up the batch run, with a dictionary of fixed and changing parameters. Let's keep everything fixed except for the Number of Bots. This will be deduced from the sum of Conservative and Progressive bots."
   ]
  },
  {
   "cell_type": "code",
   "execution_count": 12,
   "metadata": {
    "ExecuteTime": {
     "end_time": "2025-03-24T01:16:50.608254Z",
     "start_time": "2025-03-24T01:16:50.549944Z"
    }
   },
   "outputs": [],
   "source": [
    "fixed_params = {\"num_nodes\": 30, \"avg_node_degree\": 3, \"positive_chance\": 0.5, \"become_neutral_chance\": 0.5}\n",
    "variable_params = {\"num_cons_bots\": range(1, 9), \"num_prog_bots\": range(1, 9)}\n",
    "all_params = fixed_params | variable_params"
   ]
  },
  {
   "cell_type": "code",
   "execution_count": null,
   "metadata": {
    "ExecuteTime": {
     "end_time": "2025-03-24T01:17:30.906147Z",
     "start_time": "2025-03-24T01:16:50.549995Z"
    }
   },
   "outputs": [],
   "source": [
    "results = batch_run(\n",
    "    TikTokEchoChamber,\n",
    "    parameters=all_params,\n",
    "    iterations=10,\n",
    "    max_steps=200,\n",
    ")\n",
    "\n",
    "# get dataframe of results\n",
    "df = pd.DataFrame(results)\n",
    "df"
   ]
  },
  {
   "cell_type": "markdown",
   "metadata": {
    "collapsed": false,
    "jupyter": {
     "outputs_hidden": false
    }
   },
   "source": [
    "Plot the Effect of Number of Bots on Number of Clusters"
   ]
  },
  {
   "cell_type": "code",
   "execution_count": null,
   "metadata": {
    "ExecuteTime": {
     "end_time": "2025-03-24T01:17:31.007744Z",
     "start_time": "2025-03-24T01:17:30.913880Z"
    }
   },
   "outputs": [],
   "source": [
    "plt.scatter((df.num_cons_bots + df.num_prog_bots), df.CA_Num_Clusters)\n",
    "plt.xlabel(\"Num of Bots\")\n",
    "plt.ylabel(\"Num of Clusters\")\n",
    "plt.grid()\n",
    "plt.title(\"Effect of Number of Bots on Number of Clusters\")\n",
    "plt.show()"
   ]
  },
  {
   "cell_type": "markdown",
   "metadata": {
    "collapsed": false,
    "jupyter": {
     "outputs_hidden": false
    }
   },
   "source": [
    "***\n",
    "# Effect of Probability to Follow on Average Cluster Size\n",
    "\n",
    "How big do clusters get when agents are more likely to connect than disconnect?"
   ]
  },
  {
   "cell_type": "code",
   "execution_count": null,
   "metadata": {
    "ExecuteTime": {
     "end_time": "2025-03-24T01:17:34.898944Z",
     "start_time": "2025-03-24T01:17:30.961844Z"
    },
    "collapsed": false,
    "jupyter": {
     "outputs_hidden": false
    }
   },
   "outputs": [],
   "source": [
    "from numpy import arange\n",
    "\n",
    "fixed_params2 = {\"num_nodes\": 20, \"avg_node_degree\": 3, \"num_cons_bots\": 2, \"num_prog_bots\": 2, \"become_neutral_chance\": 0.5}\n",
    "variable_params2 = {\"positive_chance\": arange(0.0, 1.0, 0.1)}\n",
    "all_params2 = fixed_params2 | variable_params2\n",
    "\n",
    "results2 = batch_run(\n",
    "    TikTokEchoChamber,\n",
    "    parameters=all_params2,\n",
    "    iterations=10,\n",
    "    max_steps=200,\n",
    ")\n",
    "\n",
    "df2 = pd.DataFrame(results2)\n",
    "df2"
   ]
  },
  {
   "cell_type": "code",
   "execution_count": null,
   "metadata": {
    "ExecuteTime": {
     "end_time": "2025-03-24T01:17:35.062540Z",
     "start_time": "2025-03-24T01:17:34.910100Z"
    },
    "collapsed": false,
    "jupyter": {
     "outputs_hidden": false
    }
   },
   "outputs": [],
   "source": [
    "plt.scatter(df2.positive_chance, df2.CA_Avg_Cluster_Size)\n",
    "plt.xlabel(\"Prob to Follow\")\n",
    "plt.ylabel(\"Avg Cluster Size\")\n",
    "plt.grid()\n",
    "plt.title(\"Effect of Probability to Follow on Average Cluster Size\")\n",
    "plt.show()"
   ]
  },
  {
   "cell_type": "markdown",
   "metadata": {
    "collapsed": false,
    "jupyter": {
     "outputs_hidden": false
    }
   },
   "source": [
    "***\n",
    "# Comparing Bot-to-Bot Interactions to Echo Chamber Formation Rate\n",
    "\n",
    "How do bot-to-bot interactions influence the number of steps taken to form echo chambers?"
   ]
  },
  {
   "cell_type": "code",
   "execution_count": null,
   "metadata": {
    "ExecuteTime": {
     "end_time": "2025-03-24T01:17:43.365649Z",
     "start_time": "2025-03-24T01:17:34.952162Z"
    },
    "collapsed": false,
    "jupyter": {
     "outputs_hidden": false
    }
   },
   "outputs": [],
   "source": [
    "fixed_params3 = {\"num_nodes\": 20, \"avg_node_degree\": 3, \"num_cons_bots\": 2, \"num_prog_bots\": 2, \"positive_chance\": 0.5, \"become_neutral_chance\": 0.5}\n",
    "\n",
    "# TODO when #bot interactions is made, plot that instead\n",
    "variable_params3 = {\"num_cons_bots\": range(1, 9), \"num_prog_bots\": range(1, 9)}\n",
    "all_params3 = fixed_params3 | variable_params3\n",
    "\n",
    "results3 = batch_run(\n",
    "    TikTokEchoChamber,\n",
    "    parameters=all_params3,\n",
    "    iterations=10,\n",
    "    max_steps=200,\n",
    ")\n",
    "\n",
    "df3 = pd.DataFrame(results3)\n",
    "df3"
   ]
  },
  {
   "cell_type": "code",
   "execution_count": null,
   "metadata": {
    "ExecuteTime": {
     "end_time": "2025-03-24T01:17:43.545657Z",
     "start_time": "2025-03-24T01:17:43.369725Z"
    },
    "collapsed": false,
    "jupyter": {
     "outputs_hidden": false
    }
   },
   "outputs": [],
   "source": [
    "plt.scatter((df3.num_cons_bots + df3.num_prog_bots), df3.Step)\n",
    "plt.xlabel(\"Num of Bots\")\n",
    "plt.ylabel(\"Num of Steps\")\n",
    "plt.grid()\n",
    "plt.title(\"Effect of Number of Bots on Number of Steps\")\n",
    "plt.show()"
   ]
  },
  {
   "cell_type": "markdown",
   "metadata": {
    "collapsed": false
   },
   "source": [
    "***\n",
    "# Comparing Bot-to-Human Ratio to Echo Chamber Formation Rate\n",
    "\n",
    "How do bot-to-bot interactions influence the number of steps taken to form echo chambers?"
   ]
  },
  {
   "cell_type": "code",
   "execution_count": null,
   "metadata": {
    "ExecuteTime": {
     "end_time": "2025-03-24T01:17:51.714402Z",
     "start_time": "2025-03-24T01:17:43.493707Z"
    },
    "collapsed": false
   },
   "outputs": [],
   "source": [
    "fixed_params4 = {\"num_nodes\": 20, \"avg_node_degree\": 3, \"num_cons_bots\": 2, \"num_prog_bots\": 2, \"positive_chance\": 0.5, \"become_neutral_chance\": 0.5}\n",
    "\n",
    "variable_params4 = {\"num_cons_bots\": range(1, 9), \"num_prog_bots\": range(1, 9)}\n",
    "all_params4 = fixed_params4 | variable_params4\n",
    "\n",
    "results4 = batch_run(\n",
    "    TikTokEchoChamber,\n",
    "    parameters=all_params4,\n",
    "    iterations=10,\n",
    "    max_steps=200,\n",
    ")\n",
    "\n",
    "df4 = pd.DataFrame(results4)\n",
    "df4"
   ]
  },
  {
   "cell_type": "code",
   "execution_count": null,
   "metadata": {
    "ExecuteTime": {
     "end_time": "2025-03-24T01:17:51.793046Z",
     "start_time": "2025-03-24T01:17:51.728195Z"
    },
    "collapsed": false
   },
   "outputs": [],
   "source": [
    "no_bots = (df4.num_cons_bots + df4.num_prog_bots)\n",
    "no_hums = df4.num_nodes - no_bots\n",
    "bot_hum_ratio = no_bots.divide(no_hums, fill_value=1)\n",
    "\n",
    "plt.scatter(bot_hum_ratio, df4.Step)\n",
    "plt.xlabel(\"Bot to Human Ratio\")\n",
    "plt.ylabel(\"Num of Steps\")\n",
    "plt.grid()\n",
    "plt.title(\"Bot to Human Ratio vs Number of Steps\")\n",
    "plt.show()"
   ]
  },
  {
   "cell_type": "markdown",
   "metadata": {
    "collapsed": false,
    "jupyter": {
     "outputs_hidden": false
    }
   },
   "source": [
    "## References\n",
    "\n",
    "This document was adopted from the Mesa Schelling model analysis file found at the mesa examples repository on GitHub\n",
    "    [https://github.com/projectmesa/mesa/tree/main/mesa/examples/basic/schelling](https://github.com/projectmesa/mesa/tree/main/mesa/examples/basic/schelling)"
   ]
  },
  {
   "cell_type": "code",
   "execution_count": 20,
   "metadata": {
    "ExecuteTime": {
     "end_time": "2025-03-24T01:17:51.848736Z",
     "start_time": "2025-03-24T01:17:51.775110Z"
    },
    "collapsed": false,
    "jupyter": {
     "outputs_hidden": false
    }
   },
   "outputs": [],
   "source": []
  }
 ],
 "metadata": {
  "kernelspec": {
   "display_name": "env",
   "language": "python",
   "name": "python3"
  },
  "language_info": {
   "codemirror_mode": {
    "name": "ipython",
    "version": 3
   },
   "file_extension": ".py",
   "mimetype": "text/x-python",
   "name": "python",
   "nbconvert_exporter": "python",
   "pygments_lexer": "ipython3",
   "version": "3.12.4"
  },
  "widgets": {
   "state": {},
   "version": "1.1.2"
  }
 },
 "nbformat": 4,
 "nbformat_minor": 4
}
