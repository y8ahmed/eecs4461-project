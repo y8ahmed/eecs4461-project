{
 "cells": [
  {
   "cell_type": "markdown",
   "metadata": {
    "collapsed": false,
    "jupyter": {
     "outputs_hidden": false
    }
   },
   "source": [
    "# TikTok Echo Chamber Model\n",
    "\n",
    "## Background\n",
    "\n",
    "The TikTok Echo Chamber model seeks to simulate the creation and sustenance of echo chambers on TikTok via bot to bot interactions. It utilizes agent-based modelling to demonstrate how agents - human or bot - of varying political leanings - conservative, progressive or neutral - interact with one another and take-on/lose each other's political leanings, eventually finding themselves surrounded by agents with similar leanings.\n",
    "\n",
    "The model categorizes interactions like following, sharing, commenting and liking as positive interactions since they promote connection and increase the likelihood of political leanings being adopted. Conversely, interactions like unfollowing and disliking are thus categorized as negative interactions.\n",
    "\n",
    "Agents are randomly placed on a graph. Human agents start off neutral to reflect a non-tailored For You Page (FYP) when a new user joins TikTok. There is at least one bot agent in the network and bot agents, as in real life, start off with a non-neutral political leaning with the goal of spreading that leaning. Human agents are able to have positive or negative interactions with other agents, while bot agents can only have positive interactions since they aim to spread their leanings. Upon a positive interaction, an agent tries to pass on its leaning to another. Upon a negative interaction, the receiving agent will try to change its political leaning to something other than the initiating agent's.\n",
    "\n",
    "While individual human agents may interact with others of dissimilar leanings, the amplification of some leaning by bots near the human agent nonetheless leads to clusters of similar leanings.\n",
    "\n",
    "## Implementation\n",
    "\n",
    "This is a demonstration of running the TikTok Echo Chamber model in an IPython Notebook. The actual model and agent code are implemented in the src directory of this Github repo. Below, we will import the model class, instantiate it, run it, and plot the time series of the number of happy agents.\n",
    "\n",
    "Please note that you may have to edit the source code since imports may not be identified in different settings. If the below import fails, make the following changes\n",
    "\n",
    "In src/app.py change:\n",
    "<code>from agents import</code> to <code>from src.agents import</code>\n",
    "<code>from model import</code> to <code>from src.model import</code>\n",
    "\n",
    "In src/model.py change:\n",
    "<code>from agents import</code> to <code>from src.agents import</code>"
   ]
  },
  {
   "cell_type": "markdown",
   "metadata": {
    "collapsed": false,
    "jupyter": {
     "outputs_hidden": false
    }
   },
   "source": [
    "## The following analyses are done in this notebook.\n",
    "Notebook links don't work on Github so feel free to search by these titles.\n",
    "1. [Effect of Number of Bots on Number of Clusters](#Effect-of-Number-of-Bots-on-Number-of-Clusters)\n",
    "2. [Effect of Probability to Follow on Average Cluster Size](#Effect-of-Probability-to-Follow-on-Average-Cluster-Size)\n",
    "3. [Comparing Bot-to-Bot Interactions to Echo Chamber Formation Rate](#Comparing-Bot-to-Bot-Interactions-to-Echo-Chamber-Formation-Rate)\n",
    "4. [Comparing Bot-to-Human Ratio to Echo Chamber Formation Rate](#Comparing-Bot-to-Human-Ratio-to-Echo-Chamber-Formation-Rate)\n",
    "5. [Comparing Average Bot Reach to Number of Clusters](#Comparing-Average-Bot-Reach-to-Number-of-Clusters)\n",
    "\n",
    "[References](#references)"
   ]
  },
  {
   "cell_type": "code",
   "execution_count": null,
   "metadata": {},
   "outputs": [],
   "source": [
    "import matplotlib.pyplot as plt\n",
    "import pandas as pd\n",
    "\n",
    "%matplotlib inline\n",
    "\n",
    "from src.model import TikTokEchoChamber"
   ]
  },
  {
   "cell_type": "markdown",
   "metadata": {},
   "source": [
    "Now we instantiate a model instance: 10 nodes with 2 bot nodes and an average node degree of 3. The likelihood of agents to have a positive interaction with others is 40%. After a negative interaction, they have a 50% chance to become neutral."
   ]
  },
  {
   "cell_type": "code",
   "execution_count": null,
   "metadata": {},
   "outputs": [],
   "source": [
    "ttec_model = TikTokEchoChamber(\n",
    "    num_nodes=20,\n",
    "    avg_node_degree=3,\n",
    "    num_cons_bots=3,\n",
    "    num_prog_bots=3,\n",
    "    positive_chance=0.4,\n",
    "    become_neutral_chance=0.5,\n",
    "    seed=42\n",
    ")"
   ]
  },
  {
   "cell_type": "markdown",
   "metadata": {},
   "source": [
    "The model will run until all agents are of non-neutral leaning. However, there's no guarantee that a given model instantiation will *ever* settle down. So it will run for either 100 steps or until it stops on its own, whichever comes first:"
   ]
  },
  {
   "cell_type": "code",
   "execution_count": null,
   "metadata": {},
   "outputs": [],
   "source": [
    "while ttec_model.running and ttec_model.steps < 100:\n",
    "    ttec_model.step()\n",
    "print(f\"Number of Steps {ttec_model.steps}\")  # Show how many steps have actually run"
   ]
  },
  {
   "cell_type": "markdown",
   "metadata": {
    "collapsed": false,
    "jupyter": {
     "outputs_hidden": false
    }
   },
   "source": [
    "Generate a pandas DataFrame of the number of conservative, progressive and neutral agent counts at the end of each step."
   ]
  },
  {
   "cell_type": "code",
   "execution_count": null,
   "metadata": {
    "collapsed": false,
    "jupyter": {
     "outputs_hidden": false
    }
   },
   "outputs": [],
   "source": [
    "model_out = ttec_model.datacollector.get_model_vars_dataframe()\n",
    "model_out"
   ]
  },
  {
   "cell_type": "code",
   "execution_count": null,
   "outputs": [],
   "source": [
    "agent_out = ttec_model.datacollector.get_agent_vars_dataframe()\n",
    "agent_out"
   ],
   "metadata": {
    "collapsed": false
   }
  },
  {
   "cell_type": "markdown",
   "metadata": {
    "collapsed": false,
    "jupyter": {
     "outputs_hidden": false
    }
   },
   "source": [
    "Now show the cluster metrics at the end of each step. This is in a specific table of the datacollector."
   ]
  },
  {
   "cell_type": "code",
   "execution_count": null,
   "outputs": [],
   "source": [
    "clu_out = ttec_model.datacollector.get_table_dataframe(\"CA\")\n",
    "clu_out.head()"
   ],
   "metadata": {
    "collapsed": false
   }
  },
  {
   "cell_type": "code",
   "execution_count": null,
   "metadata": {
    "collapsed": false,
    "jupyter": {
     "outputs_hidden": false
    }
   },
   "outputs": [],
   "source": [
    "cluster_out = ttec_model.datacollector.get_table_dataframe(\"CA\")\n",
    "cluster_out.head()"
   ]
  },
  {
   "cell_type": "markdown",
   "metadata": {
    "collapsed": false,
    "jupyter": {
     "outputs_hidden": false
    }
   },
   "source": [
    "Finally, plot both series - political leanings and cluster analysis:"
   ]
  },
  {
   "cell_type": "code",
   "execution_count": null,
   "metadata": {
    "collapsed": false,
    "jupyter": {
     "outputs_hidden": false
    }
   },
   "outputs": [],
   "source": [
    "model_out.plot()\n",
    "cluster_out.plot()"
   ]
  },
  {
   "cell_type": "markdown",
   "metadata": {
    "collapsed": false,
    "jupyter": {
     "outputs_hidden": false
    }
   },
   "source": [
    "***\n",
    "# Effect of Number of Bots on Number of Clusters\n",
    "\n",
    "How big do clusters get when agents are more likely to connect than disconnect?"
   ]
  },
  {
   "cell_type": "markdown",
   "metadata": {
    "collapsed": false,
    "jupyter": {
     "outputs_hidden": false
    }
   },
   "source": [
    "Below we do a parameter sweep to see how the number of clusters changes with the number of bots.\n",
    "\n",
    "First, we create a function which takes a model instance and returns the number of clusters ie. agents in  proximity to one another which also have similar leanings."
   ]
  },
  {
   "cell_type": "code",
   "execution_count": null,
   "metadata": {},
   "outputs": [],
   "source": [
    "from batchrunner import batch_run"
   ]
  },
  {
   "cell_type": "markdown",
   "metadata": {},
   "source": [
    "Now, we set up the batch run, with a dictionary of fixed and changing parameters. Let's keep everything fixed except for the Number of Bots. This will be deduced from the sum of Conservative and Progressive bots."
   ]
  },
  {
   "cell_type": "code",
   "execution_count": null,
   "metadata": {},
   "outputs": [],
   "source": [
    "fixed_params = {\"num_nodes\": 30, \"avg_node_degree\": 3, \"positive_chance\": 0.5, \"become_neutral_chance\": 0.5}\n",
    "variable_params = {\"num_cons_bots\": range(1, 9), \"num_prog_bots\": range(1, 9)}\n",
    "all_params = fixed_params | variable_params"
   ]
  },
  {
   "cell_type": "code",
   "execution_count": null,
   "metadata": {},
   "outputs": [],
   "source": [
    "results = batch_run(\n",
    "    TikTokEchoChamber,\n",
    "    parameters=all_params,\n",
    "    iterations=10,\n",
    "    max_steps=150,\n",
    ")\n",
    "\n",
    "# get dataframe of results\n",
    "df = pd.DataFrame(results)\n",
    "df"
   ]
  },
  {
   "cell_type": "markdown",
   "metadata": {
    "collapsed": false,
    "jupyter": {
     "outputs_hidden": false
    }
   },
   "source": [
    "Plot the Effect of Number of Bots on Number of Clusters"
   ]
  },
  {
   "cell_type": "code",
   "execution_count": null,
   "metadata": {},
   "outputs": [],
   "source": [
    "plt.scatter((df.num_cons_bots + df.num_prog_bots), df.CA_Num_Clusters)\n",
    "plt.xlabel(\"Num of Bots\")\n",
    "plt.ylabel(\"Num of Clusters\")\n",
    "plt.grid()\n",
    "plt.title(\"Effect of Number of Bots on Number of Clusters\")\n",
    "plt.show()"
   ]
  },
  {
   "cell_type": "markdown",
   "metadata": {
    "collapsed": false,
    "jupyter": {
     "outputs_hidden": false
    }
   },
   "source": [
    "***\n",
    "# Effect of Probability to Follow on Average Cluster Size\n",
    "\n",
    "How big do clusters get when agents are more likely to connect than disconnect?"
   ]
  },
  {
   "cell_type": "code",
   "execution_count": null,
   "metadata": {
    "collapsed": false,
    "jupyter": {
     "outputs_hidden": false
    }
   },
   "outputs": [],
   "source": [
    "from numpy import arange\n",
    "\n",
    "fixed_params2 = {\"num_nodes\": 20, \"avg_node_degree\": 3, \"num_cons_bots\": 2, \"num_prog_bots\": 2, \"become_neutral_chance\": 0.5}\n",
    "variable_params2 = {\"positive_chance\": arange(0.0, 1.0, 0.1)}\n",
    "all_params2 = fixed_params2 | variable_params2\n",
    "\n",
    "results2 = batch_run(\n",
    "    TikTokEchoChamber,\n",
    "    parameters=all_params2,\n",
    "    iterations=10,\n",
    "    max_steps=150,\n",
    ")\n",
    "\n",
    "df2 = pd.DataFrame(results2)\n",
    "df2"
   ]
  },
  {
   "cell_type": "code",
   "execution_count": null,
   "metadata": {
    "collapsed": false,
    "jupyter": {
     "outputs_hidden": false
    }
   },
   "outputs": [],
   "source": [
    "plt.scatter(df2.positive_chance, df2.CA_Avg_Cluster_Size)\n",
    "plt.xlabel(\"Prob to Follow\")\n",
    "plt.ylabel(\"Avg Cluster Size\")\n",
    "plt.grid()\n",
    "plt.title(\"Effect of Probability to Follow on Average Cluster Size\")\n",
    "plt.show()"
   ]
  },
  {
   "cell_type": "markdown",
   "metadata": {
    "collapsed": false,
    "jupyter": {
     "outputs_hidden": false
    }
   },
   "source": [
    "***\n",
    "# Comparing Bot-to-Bot Interactions to Echo Chamber Formation Rate\n",
    "\n",
    "How do bot-to-bot interactions influence the number of steps taken to form echo chambers?"
   ]
  },
  {
   "cell_type": "code",
   "execution_count": null,
   "metadata": {
    "collapsed": false,
    "jupyter": {
     "outputs_hidden": false
    }
   },
   "outputs": [],
   "source": [
    "fixed_params3 = {\"num_nodes\": 20, \"avg_node_degree\": 3, \"num_cons_bots\": 2, \"num_prog_bots\": 2, \"positive_chance\": 0.5, \"become_neutral_chance\": 0.5}\n",
    "\n",
    "# TODO when #bot interactions is made, plot that instead\n",
    "variable_params3 = {\"num_cons_bots\": range(1, 9), \"num_prog_bots\": range(1, 9)}\n",
    "all_params3 = fixed_params3 | variable_params3\n",
    "\n",
    "results3 = batch_run(\n",
    "    TikTokEchoChamber,\n",
    "    parameters=all_params3,\n",
    "    iterations=10,\n",
    "    max_steps=150,\n",
    ")\n",
    "\n",
    "df3 = pd.DataFrame(results3)\n",
    "df3"
   ]
  },
  {
   "cell_type": "code",
   "execution_count": null,
   "metadata": {
    "collapsed": false,
    "jupyter": {
     "outputs_hidden": false
    }
   },
   "outputs": [],
   "source": [
    "plt.scatter((df3.num_cons_bots + df3.num_prog_bots), df3.Step)\n",
    "plt.xlabel(\"Num of Bots\")\n",
    "plt.ylabel(\"Num of Steps\")\n",
    "plt.grid()\n",
    "plt.title(\"Effect of Number of Bots on Number of Steps\")\n",
    "plt.show()"
   ]
  },
  {
   "cell_type": "markdown",
   "metadata": {
    "collapsed": false
   },
   "source": [
    "***\n",
    "# Comparing Bot-to-Human Ratio to Echo Chamber Formation Rate\n",
    "\n",
    "How do bot-to-bot interactions influence the number of steps taken to form echo chambers?"
   ]
  },
  {
   "cell_type": "code",
   "execution_count": null,
   "metadata": {
    "collapsed": false
   },
   "outputs": [],
   "source": [
    "fixed_params4 = {\"num_nodes\": 20, \"avg_node_degree\": 3, \"positive_chance\": 0.5, \"become_neutral_chance\": 0.5}\n",
    "\n",
    "variable_params4 = {\"num_cons_bots\": range(1, 9), \"num_prog_bots\": range(1, 9)}\n",
    "all_params4 = fixed_params4 | variable_params4\n",
    "\n",
    "results4 = batch_run(\n",
    "    TikTokEchoChamber,\n",
    "    parameters=all_params4,\n",
    "    iterations=10,\n",
    "    max_steps=150,\n",
    ")\n",
    "\n",
    "df4 = pd.DataFrame(results4)\n",
    "df4"
   ]
  },
  {
   "cell_type": "code",
   "execution_count": null,
   "metadata": {
    "collapsed": false
   },
   "outputs": [],
   "source": [
    "no_bots = (df4.num_cons_bots + df4.num_prog_bots)\n",
    "no_hums = df4.num_nodes - no_bots\n",
    "bot_hum_ratio = no_bots.divide(no_hums, fill_value=1)\n",
    "\n",
    "plt.scatter(bot_hum_ratio, df4.Step)\n",
    "plt.xlabel(\"Bot to Human Ratio\")\n",
    "plt.ylabel(\"Num of Steps\")\n",
    "plt.grid()\n",
    "plt.title(\"Bot to Human Ratio vs Number of Steps\")\n",
    "plt.show()"
   ]
  },
  {
   "cell_type": "markdown",
   "source": [
    "***\n",
    "# Comparing Average Bot Reach to Number of Clusters\n",
    "\n",
    "How do bot-to-bot interactions influence the number of echo chambers formed?\n",
    "\n",
    "This setup has max connectivity ie average node degree = number of nodes -1 such that every node can likely reach every other node. This is to allow agents' reach to be maximized."
   ],
   "metadata": {
    "collapsed": false
   }
  },
  {
   "cell_type": "code",
   "execution_count": null,
   "outputs": [],
   "source": [
    "fixed_params6 = {\"num_nodes\": 20, \"avg_node_degree\": 3, \"num_cons_bots\": 3, \"num_prog_bots\": 3, \"positive_chance\": 0.5, \"become_neutral_chance\": 0.5}\n",
    "\n",
    "all_params6 = fixed_params6\n",
    "\n",
    "results6 = batch_run(\n",
    "    TikTokEchoChamber,\n",
    "    parameters=all_params6,\n",
    "    iterations=600,\n",
    "    max_steps=150,\n",
    ")\n",
    "\n",
    "df6 = pd.DataFrame(results6)\n",
    "df6"
   ],
   "metadata": {
    "collapsed": false
   }
  },
  {
   "cell_type": "code",
   "execution_count": null,
   "outputs": [],
   "source": [
    "# TODO derive the cluster size for each political leaning\n",
    "\n",
    "plt.scatter(df6.Avg_Cons_Bot_Reach, df6.Step)\n",
    "plt.xlabel(\"Avg Bot Reach\")\n",
    "plt.ylabel(\"Num of Clusters\")\n",
    "plt.grid()\n",
    "plt.title(\"Avg Bot Reach vs Number of Clusters\")\n",
    "plt.show()"
   ],
   "metadata": {
    "collapsed": false
   }
  },
  {
   "cell_type": "code",
   "execution_count": null,
   "outputs": [],
   "source": [],
   "metadata": {
    "collapsed": false
   }
  },
  {
   "cell_type": "markdown",
   "metadata": {
    "collapsed": false,
    "jupyter": {
     "outputs_hidden": false
    }
   },
   "source": [
    "## References\n",
    "\n",
    "This document was adopted from the Mesa Schelling model analysis file found at the mesa examples repository on GitHub\n",
    "    [https://github.com/projectmesa/mesa/tree/main/mesa/examples/basic/schelling](https://github.com/projectmesa/mesa/tree/main/mesa/examples/basic/schelling)"
   ]
  },
  {
   "cell_type": "code",
   "execution_count": null,
   "metadata": {
    "collapsed": false,
    "jupyter": {
     "outputs_hidden": false
    }
   },
   "outputs": [],
   "source": []
  }
 ],
 "metadata": {
  "kernelspec": {
   "display_name": "env",
   "language": "python",
   "name": "python3"
  },
  "language_info": {
   "codemirror_mode": {
    "name": "ipython",
    "version": 3
   },
   "file_extension": ".py",
   "mimetype": "text/x-python",
   "name": "python",
   "nbconvert_exporter": "python",
   "pygments_lexer": "ipython3",
   "version": "3.12.4"
  },
  "widgets": {
   "state": {},
   "version": "1.1.2"
  }
 },
 "nbformat": 4,
 "nbformat_minor": 4
}
